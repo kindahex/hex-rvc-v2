{
  "nbformat": 4,
  "nbformat_minor": 0,
  "metadata": {
    "colab": {
      "provenance": [],
      "gpuType": "T4",
      "authorship_tag": "ABX9TyNIrGu/3Kge8PN9bc2nrppt",
      "include_colab_link": true
    },
    "kernelspec": {
      "name": "python3",
      "display_name": "Python 3"
    },
    "language_info": {
      "name": "python"
    },
    "accelerator": "GPU"
  },
  "cells": [
    {
      "cell_type": "markdown",
      "metadata": {
        "id": "view-in-github",
        "colab_type": "text"
      },
      "source": [
        "<a href=\"https://colab.research.google.com/github/kindahex/hex-rvc-v2/blob/main/Hex_RVC_v2.ipynb\" target=\"_parent\"><img src=\"https://colab.research.google.com/assets/colab-badge.svg\" alt=\"Open In Colab\"/></a>"
      ]
    },
    {
      "cell_type": "markdown",
      "source": [
        "# Hex RVC V2 colab edition"
      ],
      "metadata": {
        "id": "sN_g1x3SdmAJ"
      }
    },
    {
      "cell_type": "code",
      "execution_count": null,
      "metadata": {
        "cellView": "form",
        "id": "uIqcYD-Y6BWA"
      },
      "outputs": [],
      "source": [
        "\n",
        "#@title install\n",
        "\n",
        "\n",
        "from IPython.display import clear_output\n",
        "import subprocess\n",
        "import os\n",
        "\n",
        "\n",
        "\n",
        "url = \"https://github.com/kindahex/hex-rvc-v2.git\"\n",
        "\n",
        "\n",
        "!mkdir -p /content/hex\n",
        "\n",
        "%cd /content/hex\n",
        "\n",
        "!git clone $url .\n",
        "\n",
        "!pip install pip==23.3.1\n",
        "\n",
        "!pip install -r requirements.txt\n",
        "\n",
        "path = \"/content\"\n",
        "!python -m pip install ort-nightly-gpu --index-url=https://aiinfra.pkgs.visualstudio.com/PublicPackages/_packaging/ort-cuda-12-nightly/pypi/simple/\n",
        "clear_output()"
      ]
    },
    {
      "cell_type": "code",
      "source": [
        "#@title run webui\n",
        "!git pull --quiet\n",
        "%cd /content/hex\n",
        "\n",
        "!python demo.py"
      ],
      "metadata": {
        "cellView": "form",
        "id": "nfjdJNzX7Nm-"
      },
      "execution_count": null,
      "outputs": []
    }
  ]
}