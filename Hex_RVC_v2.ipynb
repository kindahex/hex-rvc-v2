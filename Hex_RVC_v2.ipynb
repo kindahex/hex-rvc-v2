{
  "nbformat": 4,
  "nbformat_minor": 0,
  "metadata": {
    "colab": {
      "provenance": [],
      "gpuType": "T4",
      "include_colab_link": true
    },
    "kernelspec": {
      "name": "python3",
      "display_name": "Python 3"
    },
    "language_info": {
      "name": "python"
    },
    "accelerator": "GPU"
  },
  "cells": [
    {
      "cell_type": "markdown",
      "metadata": {
        "id": "view-in-github",
        "colab_type": "text"
      },
      "source": [
        "<a href=\"https://colab.research.google.com/github/kindahex/hex-rvc-v2/blob/main/Hex_RVC_v2.ipynb\" target=\"_parent\"><img src=\"https://colab.research.google.com/assets/colab-badge.svg\" alt=\"Open In Colab\"/></a>"
      ]
    },
    {
      "cell_type": "markdown",
      "source": [
        "# Hex RVC V2 colab edition"
      ],
      "metadata": {
        "id": "sN_g1x3SdmAJ"
      }
    },
    {
      "cell_type": "code",
      "execution_count": null,
      "metadata": {
        "cellView": "form",
        "id": "uIqcYD-Y6BWA"
      },
      "outputs": [],
      "source": [
        "\n",
        "#@title install\n",
        "\n",
        "\n",
        "from IPython.display import clear_output\n",
        "import subprocess\n",
        "import os\n",
        "\n",
        "path = \"/content\"\n",
        "!python -m pip install ort-nightly-gpu --index-url=https://aiinfra.pkgs.visualstudio.com/PublicPackages/_packaging/ort-cuda-12-nightly/pypi/simple/\n",
        "\n",
        "\n",
        "url = \"https://github.com/kindahex/hex-rvc-v2.git\"\n",
        "\n",
        "\n",
        "!mkdir -p /content/hex\n",
        "\n",
        "%cd /content/hex\n",
        "\n",
        "!git clone $url .\n",
        "\n",
        "!pip install pip==23.3.1\n",
        "\n",
        "!pip install -r requirements.txt\n",
        "\n",
        "\n",
        "clear_output()\n",
        "print('Installation done !')"
      ]
    },
    {
      "cell_type": "code",
      "source": [
        "#@markdown #**Separation! BS-Roformer and Mel Band Roformer Only**\n",
        "import os\n",
        "import glob\n",
        "import yt_dlp\n",
        "\n",
        "def downloader(url):\n",
        "    ydl_opts = {\n",
        "        'format': 'bestaudio/best',\n",
        "        'postprocessors': [{\n",
        "            'key': 'FFmpegExtractAudio',\n",
        "            'preferredcodec': 'wav',\n",
        "            'preferredquality': '192',\n",
        "        }],\n",
        "        'outtmpl': os.path.join(f'{path}/temp', '%(title)s.%(ext)s'),\n",
        "    }\n",
        "\n",
        "    with yt_dlp.YoutubeDL(ydl_opts) as ydl:\n",
        "        ydl.download([url])\n",
        "\n",
        "def checker(url):\n",
        "    return \"http\" in url\n",
        "\n",
        "def uvr_cli(audio_input, output_folder, extensions, output_format, model):\n",
        "    found_files = []\n",
        "\n",
        "    dictmodel = {\n",
        "        'BS-Roformer-Viperx-1297.ckpt': 'model_bs_roformer_ep_317_sdr_12.9755.ckpt',\n",
        "        'BS-Roformer-Viperx-1296.ckpt': 'model_bs_roformer_ep_368_sdr_12.9628.ckpt',\n",
        "        'BS-Roformer-Viperx-1053.ckpt': 'model_bs_roformer_ep_937_sdr_10.5309.ckpt',\n",
        "        'BS-Roformer-De-Reverb-Anvuew': 'deverb_bs_roformer_8_384dim_10depth.ckpt',\n",
        "        'Mel-Roformer-Viperx-1143.ckpt': 'model_mel_band_roformer_ep_3005_sdr_11.4360.ckpt',\n",
        "        'Mel-Roformer-Crowd-Aufr33-Viperx': 'mel_band_roformer_crowd_aufr33_viperx_sdr_8.7144.ckpt',\n",
        "        'Mel-Roformer-Denoise-Aufr33': 'denoise_mel_band_roformer_aufr33_sdr_27.9959.ckpt',\n",
        "        'Mel-Roformer-Denoise-Aufr33-Aggr' : 'denoise_mel_band_roformer_aufr33_aggr_sdr_27.9768.ckpt',\n",
        "        'Mel-Roformer-Karaoke-Aufr33-Viperx': 'mel_band_roformer_karaoke_aufr33_viperx_sdr_10.1956.ckpt'\n",
        "    }\n",
        "    roformer_model = dictmodel[model]\n",
        "\n",
        "    if checker(audio_input):\n",
        "        downloader(audio_input)\n",
        "        audio_input = f\"{path}/temp\"\n",
        "\n",
        "    for audio_files in os.listdir(audio_input):\n",
        "        if audio_files.endswith(extensions):\n",
        "            found_files.append(audio_files)\n",
        "\n",
        "    total_files = len(found_files)\n",
        "\n",
        "    if total_files == 0:\n",
        "        print(\"No valid audio files found.\")\n",
        "    else:\n",
        "        print(f\"{total_files} audio files found\")\n",
        "\n",
        "        found_files.sort()\n",
        "\n",
        "        for audio_files in found_files:\n",
        "            file_path = os.path.join(audio_input, audio_files)\n",
        "            prompt = f'audio-separator \"{file_path}\" --model_filename {roformer_model} --output_dir={output_folder} --output_format={output_format} --normalization=0.9 --mdxc_overlap={overlap} --mdxc_segment_size={segment_size}'\n",
        "            !$prompt\n",
        "\n",
        "    if audio_input == f\"{path}/temp\":\n",
        "        temp_files = glob.glob(f\"{path}/temp/*\")\n",
        "        for file in temp_files:\n",
        "            os.remove(file)\n",
        "\n",
        "#@markdown Input path for audio files or link:\n",
        "audio_input = \"https://youtu.be/TqMl7xSZdek?si=-5AjM8Hghqjb5Rn9\" #@param {type:\"string\"}\n",
        "#@markdown You can paste the link to the video/audio from many sites, check the complete list [here](https://github.com/yt-dlp/yt-dlp/blob/master/supportedsites.md)\n",
        "\n",
        "#@markdown Output path for audio files:\n",
        "output_folder = \"/content/hex/rvc_audios\" #@param {type:\"string\"}\n",
        "#@markdown Select the model:\n",
        "model = \"BS-Roformer-Viperx-1297.ckpt\" #@param [\"BS-Roformer-Viperx-1297.ckpt\", \"BS-Roformer-Viperx-1296.ckpt\", \"BS-Roformer-Viperx-1053.ckpt\", \"BS-Roformer-De-Reverb-Anvuew\", \"Mel-Roformer-Viperx-1143.ckpt\", \"Mel-Roformer-Crowd-Aufr33-Viperx\", \"Mel-Roformer-Denoise-Aufr33\", \"Mel-Roformer-Denoise-Aufr33-Aggr\", \"Mel-Roformer-Karaoke-Aufr33-Viperx\"]\n",
        "#@markdown Select the output format:\n",
        "output_format = \"wav\" #@param [\"wav\", \"flac\", \"mp3\"]\n",
        "#@markdown Amount of overlap between prediction windows.\n",
        "overlap = 4 #@param {type:\"slider\", min:2, max:4, step:1}\n",
        "#@markdown Larger consumes more resources, but may give better results.\n",
        "segment_size = 256 #@param {type:\"slider\", min:32, max:4000, step:32}\n",
        "extensions = (\".mp3\", \".wav\", \".flac\")\n",
        "\n",
        "uvr_cli(audio_input, output_folder, extensions, output_format, model)"
      ],
      "metadata": {
        "cellView": "form",
        "id": "kUec6X6drj4p"
      },
      "execution_count": null,
      "outputs": []
    },
    {
      "cell_type": "code",
      "source": [
        "#@title downlod models\n",
        "\n",
        "!git pull --quiet\n",
        "\n",
        "!python /content/hex/download_models.py"
      ],
      "metadata": {
        "cellView": "form",
        "id": "AP8oRoC8uVMA"
      },
      "execution_count": null,
      "outputs": []
    },
    {
      "cell_type": "code",
      "source": [
        "#@title run webui\n",
        "\n",
        "\n",
        "\n",
        "\n",
        "\n",
        "!git pull --quiet\n",
        "%cd /content/hex\n",
        "\n",
        "!python demo.py"
      ],
      "metadata": {
        "cellView": "form",
        "id": "nfjdJNzX7Nm-"
      },
      "execution_count": null,
      "outputs": []
    }
  ]
}